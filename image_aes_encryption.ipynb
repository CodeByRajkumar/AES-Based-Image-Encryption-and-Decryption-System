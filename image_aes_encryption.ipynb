{
 "cells": [
  {
   "cell_type": "code",
   "execution_count": 1,
   "id": "a32b3129-8c6c-4822-81c8-49f338e5be5a",
   "metadata": {},
   "outputs": [
    {
     "name": "stdout",
     "output_type": "stream",
     "text": [
      "Image encrypted in 1.4601 seconds\n",
      "Encrypted visual saved as encrypted_visual.png\n",
      "Image decrypted in 0.2284 seconds\n"
     ]
    }
   ],
   "source": [
    "# Install required packages\n",
    "!pip install -q pycryptodome pillow numpy\n",
    "\n",
    "# Import necessary libraries\n",
    "from Crypto.Cipher import AES\n",
    "from Crypto.Util.Padding import pad, unpad\n",
    "from PIL import Image\n",
    "import numpy as np\n",
    "import time\n",
    "import os\n",
    "\n",
    "# AES Encryption function\n",
    "def encrypt_image(image_path, key):\n",
    "    img = Image.open(image_path).convert('RGB')\n",
    "    img_bytes = np.array(img).tobytes()\n",
    "    \n",
    "    cipher = AES.new(key, AES.MODE_CBC)\n",
    "    iv = cipher.iv\n",
    "    ciphertext = cipher.encrypt(pad(img_bytes, AES.block_size))\n",
    "    \n",
    "    return ciphertext, iv, img.size\n",
    "\n",
    "# AES Decryption function\n",
    "def decrypt_image(ciphertext, iv, key, img_size):\n",
    "    cipher = AES.new(key, AES.MODE_CBC, iv)\n",
    "    decrypted_bytes = unpad(cipher.decrypt(ciphertext), AES.block_size)\n",
    "    \n",
    "    img_array = np.frombuffer(decrypted_bytes, dtype=np.uint8).reshape((img_size[1], img_size[0], 3))\n",
    "    return Image.fromarray(img_array)\n",
    "\n",
    "# Save encrypted image as scrambled visual (for demo)\n",
    "def save_encrypted_visual(ciphertext, image_size, output_path=\"encrypted_visual.png\"):\n",
    "    encrypted_array = np.frombuffer(ciphertext, dtype=np.uint8)\n",
    "    \n",
    "    total_pixels = image_size[0] * image_size[1] * 3\n",
    "    padded_array = np.zeros(total_pixels, dtype=np.uint8)\n",
    "    padded_array[:len(encrypted_array)] = encrypted_array[:total_pixels]\n",
    "    \n",
    "    encrypted_img = padded_array.reshape((image_size[1], image_size[0], 3))\n",
    "    Image.fromarray(encrypted_img).save(output_path)\n",
    "    print(f\"Encrypted visual saved as {output_path}\")\n",
    "\n",
    "# Define your AES key (must be 16, 24, or 32 bytes)\n",
    "key = b'Sixteen byte key'\n",
    "\n",
    "# Set your image file name (make sure it's uploaded to the notebook environment)\n",
    "image_path = \"image.jpg\"  # Change this to your uploaded image\n",
    "\n",
    "# Check if the image file exists\n",
    "if not os.path.exists(image_path):\n",
    "    print(f\"Image file '{image_path}' not found. Please upload it to the notebook environment.\")\n",
    "else:\n",
    "    # Encrypt the image\n",
    "    start = time.time()\n",
    "    ciphertext, iv, size = encrypt_image(image_path, key)\n",
    "    print(\"Image encrypted in\", round(time.time() - start, 4), \"seconds\")\n",
    "\n",
    "    # Save a visual version of the encrypted data\n",
    "    save_encrypted_visual(ciphertext, size)\n",
    "\n",
    "    # Decrypt the image\n",
    "    start = time.time()\n",
    "    decrypted_img = decrypt_image(ciphertext, iv, key, size)\n",
    "    print(\"Image decrypted in\", round(time.time() - start, 4), \"seconds\")\n",
    "\n",
    "    # Save and show the decrypted image\n",
    "    decrypted_img.save(\"decrypted_image.jpg\")\n",
    "    decrypted_img.show()\n"
   ]
  },
  {
   "cell_type": "code",
   "execution_count": null,
   "id": "8f6a9159-aece-4829-b069-6022e18699cf",
   "metadata": {},
   "outputs": [],
   "source": []
  }
 ],
 "metadata": {
  "kernelspec": {
   "display_name": "Python 3 (ipykernel)",
   "language": "python",
   "name": "python3"
  },
  "language_info": {
   "codemirror_mode": {
    "name": "ipython",
    "version": 3
   },
   "file_extension": ".py",
   "mimetype": "text/x-python",
   "name": "python",
   "nbconvert_exporter": "python",
   "pygments_lexer": "ipython3",
   "version": "3.12.7"
  }
 },
 "nbformat": 4,
 "nbformat_minor": 5
}
